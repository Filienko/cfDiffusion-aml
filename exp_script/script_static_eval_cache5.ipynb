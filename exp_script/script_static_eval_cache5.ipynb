{
 "cells": [
  {
   "cell_type": "code",
   "execution_count": 18,
   "metadata": {},
   "outputs": [],
   "source": [
    "import anndata as ad\n",
    "import scanpy as sc\n",
    "import matplotlib.pyplot as plt\n",
    "import numpy as np\n",
    "import os\n",
    "# os.environ['CUDA_VISIBLE_DEVICES'] = '1'\n",
    "import pandas as pd\n",
    "from scipy import stats\n",
    "import torch\n",
    "import sys\n",
    "sys.path.append('..')\n",
    "from VAE.VAE_model import VAE\n",
    "from torch.autograd import Variable"
   ]
  },
  {
   "cell_type": "code",
   "execution_count": 19,
   "metadata": {},
   "outputs": [],
   "source": [
    "def load_VAE():\n",
    "    autoencoder = VAE(\n",
    "        num_genes=19423,\n",
    "        device='cuda',\n",
    "        seed=0,\n",
    "        loss_ae='mse',\n",
    "        hidden_dim=128,\n",
    "        decoder_activation='ReLU',\n",
    "    )\n",
    "    autoencoder.load_state_dict(torch.load('/home/workplace/cfDiffusion/checkpoint/VAE/wot/model_seed=0_step=800000.pt'))\n",
    "    return autoencoder"
   ]
  },
  {
   "cell_type": "markdown",
   "metadata": {},
   "source": [
    "real data"
   ]
  },
  {
   "cell_type": "code",
   "execution_count": 20,
   "metadata": {},
   "outputs": [
    {
     "data": {
      "text/plain": [
       "(82920, 19423)"
      ]
     },
     "execution_count": 20,
     "metadata": {},
     "output_type": "execute_result"
    }
   ],
   "source": [
    "adata = sc.read_h5ad('/home/workplace/cfDiffusion/dataset/WOT_dataset/WOT_filted_data.h5ad')\n",
    "adata = adata[np.where(np.in1d(adata.obs['period'], ['D0','D0.5','D1','D1.5','D2','D2.5','D3','D4.5','D5','D5.5','D6','D6.5','D7','D7.5','D8']))[0]]\n",
    "sc.pp.normalize_total(adata, target_sum=1e4)\n",
    "sc.pp.log1p(adata)\n",
    "adata = adata[np.where(adata.obs['period'].values.isnull()==0)[0]]#[::5]\n",
    "adata.var_names_make_unique()\n",
    "gene_names = adata.var_names\n",
    "cell_data = adata.X\n",
    "cell_data.shape"
   ]
  },
  {
   "cell_type": "code",
   "execution_count": 21,
   "metadata": {},
   "outputs": [
    {
     "data": {
      "text/plain": [
       "5528.0"
      ]
     },
     "execution_count": 21,
     "metadata": {},
     "output_type": "execute_result"
    }
   ],
   "source": [
    "82920/15"
   ]
  },
  {
   "cell_type": "code",
   "execution_count": 22,
   "metadata": {},
   "outputs": [
    {
     "data": {
      "text/plain": [
       "738.0322580645161"
      ]
     },
     "execution_count": 22,
     "metadata": {},
     "output_type": "execute_result"
    }
   ],
   "source": [
    "22879/31"
   ]
  },
  {
   "cell_type": "markdown",
   "metadata": {},
   "source": [
    "conditioned generated data"
   ]
  },
  {
   "cell_type": "code",
   "execution_count": 23,
   "metadata": {},
   "outputs": [
    {
     "data": {
      "text/plain": [
       "device(type='cuda', index=0)"
      ]
     },
     "execution_count": 23,
     "metadata": {},
     "output_type": "execute_result"
    }
   ],
   "source": [
    "device = torch.device('cuda:0')\n",
    "device"
   ]
  },
  {
   "cell_type": "code",
   "execution_count": 24,
   "metadata": {},
   "outputs": [],
   "source": [
    "cato = ['D0', 'D0.5', 'D1', 'D1.5', 'D2', 'D2.5', 'D3', 'D4.5', 'D5', 'D5.5', 'D6', 'D6.5',\n",
    "        'D7', 'D7.5', 'D8']\n",
    "\n",
    "cell_gen = []\n",
    "gen_class = []\n",
    "length_per_type = 5600\n",
    "\n",
    "for i in range(15):\n",
    "    npyfile=np.load(f'/home/workplace/cfDiffusion/generation/wot/cell{i}_cache5.npy',allow_pickle=True)\n",
    "    cell_gen.append(npyfile[:length_per_type])\n",
    "    gen_class+=[cato[i]]*length_per_type\n",
    "    \n",
    "cell_gen = np.concatenate(cell_gen,axis=0)\n",
    "\n",
    "autoencoder = load_VAE().to(device)\n",
    "cell_gen = autoencoder(torch.tensor(cell_gen).to(device), return_decoded=True).cpu().detach().numpy()\n",
    "\n",
    "sim_adata = ad.AnnData(X=cell_gen)\n",
    "sim_adata.obs['period'] = gen_class"
   ]
  },
  {
   "cell_type": "code",
   "execution_count": 25,
   "metadata": {},
   "outputs": [
    {
     "data": {
      "text/plain": [
       "(84000, 19423)"
      ]
     },
     "execution_count": 25,
     "metadata": {},
     "output_type": "execute_result"
    }
   ],
   "source": [
    "cell_gen.shape"
   ]
  },
  {
   "attachments": {},
   "cell_type": "markdown",
   "metadata": {},
   "source": [
    "correlation"
   ]
  },
  {
   "cell_type": "code",
   "execution_count": 12,
   "metadata": {},
   "outputs": [
    {
     "name": "stdout",
     "output_type": "stream",
     "text": [
      "spearman= 0.9856944300753281\n",
      "pearson= 0.9933166698867822\n"
     ]
    }
   ],
   "source": [
    "print('spearman=',stats.spearmanr(cell_data.mean(axis=0), cell_gen.mean(axis=0)).correlation)\n",
    "print('pearson=',np.corrcoef(cell_data.mean(axis=0), cell_gen.mean(axis=0))[0][1])"
   ]
  },
  {
   "cell_type": "markdown",
   "metadata": {},
   "source": [
    "Wasserstein"
   ]
  },
  {
   "cell_type": "code",
   "execution_count": 13,
   "metadata": {},
   "outputs": [
    {
     "name": "stdout",
     "output_type": "stream",
     "text": [
      "0.016375659741300917\n"
     ]
    }
   ],
   "source": [
    "from scipy.stats import wasserstein_distance\n",
    "distance = wasserstein_distance(cell_data.mean(axis=0), cell_gen.mean(axis=0))\n",
    "print(distance)"
   ]
  },
  {
   "attachments": {},
   "cell_type": "markdown",
   "metadata": {},
   "source": [
    "MMD"
   ]
  },
  {
   "cell_type": "code",
   "execution_count": 26,
   "metadata": {},
   "outputs": [],
   "source": [
    "import torch\n",
    "\n",
    "def guassian_kernel(source, target, kernel_mul=2.0, kernel_num=5, fix_sigma=None):\n",
    "    '''\n",
    "    将源域数据和目标域数据转化为核矩阵, 即上文中的K\n",
    "    Params: \n",
    "\t    source: 源域数据(n * len(x))\n",
    "\t    target: 目标域数据(m * len(y))\n",
    "\t    kernel_mul: \n",
    "\t    kernel_num: 取不同高斯核的数量\n",
    "\t    fix_sigma: 不同高斯核的sigma值\n",
    "\tReturn:\n",
    "\t\tsum(kernel_val): 多个核矩阵之和\n",
    "    '''\n",
    "    n_samples = int(source.size()[0])+int(target.size()[0])\n",
    "    total = torch.cat([source, target], dim=0)\n",
    "\n",
    "    total0 = total.unsqueeze(0).expand(int(total.size(0)), int(total.size(0)), int(total.size(1)))\n",
    "\n",
    "    total1 = total.unsqueeze(1).expand(int(total.size(0)), int(total.size(0)), int(total.size(1)))\n",
    "\n",
    "    L2_distance = ((total0-total1)**2).sum(2) \n",
    "\n",
    "    if fix_sigma:\n",
    "        bandwidth = fix_sigma\n",
    "    else:\n",
    "        bandwidth = torch.sum(L2_distance.data) / (n_samples**2-n_samples)\n",
    "\n",
    "    bandwidth /= kernel_mul ** (kernel_num // 2)\n",
    "    bandwidth_list = [bandwidth * (kernel_mul**i) for i in range(kernel_num)]\n",
    "\n",
    "    kernel_val = [torch.exp(-L2_distance / bandwidth_temp) for bandwidth_temp in bandwidth_list]\n",
    "\n",
    "    return sum(kernel_val)\n",
    "\n",
    "def mmd_rbf(source, target, kernel_mul=2.0, kernel_num=5, fix_sigma=None):\n",
    "    batch_size = int(source.size()[0])\n",
    "    kernels = guassian_kernel(source, target,\n",
    "        kernel_mul=kernel_mul, kernel_num=kernel_num, fix_sigma=fix_sigma)\n",
    "\n",
    "    XX = kernels[:batch_size, :batch_size]\n",
    "    YY = kernels[batch_size:, batch_size:]\n",
    "    XY = kernels[:batch_size, batch_size:]\n",
    "    YX = kernels[batch_size:, :batch_size]\n",
    "    loss = torch.mean(XX + YY - XY -YX)\n",
    "    return loss"
   ]
  },
  {
   "cell_type": "code",
   "execution_count": 27,
   "metadata": {},
   "outputs": [],
   "source": [
    "adata = np.concatenate((cell_data, cell_gen),axis=0)\n",
    "adata = ad.AnnData(adata, dtype=np.float32)\n",
    "adata.obs_names = [f\"true_Cell\" for i in range(cell_data.shape[0])]+[f\"gen_Cell\" for i in range(cell_gen.shape[0])]"
   ]
  },
  {
   "cell_type": "code",
   "execution_count": 28,
   "metadata": {},
   "outputs": [
    {
     "name": "stdout",
     "output_type": "stream",
     "text": [
      "tensor(2.6222)\n"
     ]
    }
   ],
   "source": [
    "sc.tl.pca(adata, svd_solver='arpack')\n",
    "real = adata[adata.obs_names=='true_Cell'].obsm['X_pca'][::2][:5000] # can not be set too large, the kernel might fail\n",
    "gen = adata[adata.obs_names=='gen_Cell'].obsm['X_pca'][::2][:5000]\n",
    "X = torch.Tensor(real)\n",
    "Y = torch.Tensor(gen)\n",
    "X, Y = Variable(X), Variable(Y)\n",
    "print(mmd_rbf(X, Y))"
   ]
  },
  {
   "cell_type": "markdown",
   "metadata": {},
   "source": [
    "scib(ILISI)"
   ]
  },
  {
   "cell_type": "code",
   "execution_count": 29,
   "metadata": {},
   "outputs": [
    {
     "name": "stdout",
     "output_type": "stream",
     "text": [
      "WARNING: You’re trying to run this on 19423 dimensions of `.X`, if you really want this, set `use_rep='X'`.\n",
      "         Falling back to preprocessing with `sc.pp.pca` and default params.\n"
     ]
    },
    {
     "name": "stderr",
     "output_type": "stream",
     "text": [
      "/home/zqzhao/software/anaconda3/envs/pytorch1.10/lib/python3.8/site-packages/anndata/_core/anndata.py:453: PendingDeprecationWarning: The dtype argument will be deprecated in anndata 0.10.0\n",
      "  warnings.warn(\n",
      "/home/zqzhao/software/anaconda3/envs/pytorch1.10/lib/python3.8/site-packages/anndata/_core/anndata.py:453: PendingDeprecationWarning: The dtype argument will be deprecated in anndata 0.10.0\n",
      "  warnings.warn(\n"
     ]
    },
    {
     "data": {
      "text/plain": [
       "0.8198410845510322"
      ]
     },
     "execution_count": 29,
     "metadata": {},
     "output_type": "execute_result"
    }
   ],
   "source": [
    "import scib\n",
    "adata = np.concatenate((cell_data, cell_gen),axis=0)\n",
    "adata = ad.AnnData(adata, dtype=np.float32)\n",
    "adata.obs['batch'] = pd.Categorical([f\"true_Cell\" for i in range(cell_data.shape[0])]+[f\"gen_Cell\" for i in range(cell_gen.shape[0])])\n",
    "sc.pp.neighbors(adata, n_neighbors=10, n_pcs=20)\n",
    "scib.me.ilisi_graph(adata, batch_key=\"batch\", type_=\"knn\")"
   ]
  },
  {
   "cell_type": "markdown",
   "metadata": {},
   "source": [
    "knn"
   ]
  },
  {
   "cell_type": "code",
   "execution_count": 30,
   "metadata": {},
   "outputs": [],
   "source": [
    "from sklearn.neighbors import KNeighborsClassifier  \n",
    "from sklearn.model_selection import  train_test_split\n",
    "from sklearn.metrics import accuracy_score, roc_auc_score\n",
    "\n",
    "def knn_classify(adata):\n",
    "    real = adata[adata.obs_names=='true_Cell'].X.toarray()#.obsm['X_pca']\n",
    "    sim = adata[adata.obs_names=='gen_Cell'].X.toarray()#.obsm['X_pca']#\n",
    "\n",
    "    data = np.concatenate((real,sim),axis=0)\n",
    "    label = np.concatenate((np.ones((real.shape[0])),np.zeros((sim.shape[0]))))\n",
    "\n",
    "    knn_classifier = KNeighborsClassifier(n_neighbors=5)  \n",
    "    \n",
    "    ##将训练集切分为训练集和验证集\n",
    "    X_train,X_val,y_train,y_val = train_test_split(data, label,\n",
    "                                                test_size = 0.3,random_state = 1)\n",
    "    knn_classifier.fit(X_train, y_train)\n",
    "    predicted_label = knn_classifier.predict(X_val)\n",
    "    # print((predicted_label==y_val).sum()/X_val.shape[0])\n",
    "    accuracy = accuracy_score(predicted_label, y_val)\n",
    "\n",
    "    # 算AUC\n",
    "    predicted_probabilities = knn_classifier.predict_proba(X_val)[:, 1]  \n",
    "    \n",
    "    # 计算AUC，只适用于二分类问题  \n",
    "    # AUC需要真实标签和正类的预测概率  \n",
    "    auc = roc_auc_score(y_val, predicted_probabilities)  \n",
    "    print(f\"AUC: {auc}, Accuracy: {accuracy}\") \n",
    "\n",
    "    return accuracy, auc"
   ]
  },
  {
   "cell_type": "code",
   "execution_count": 31,
   "metadata": {},
   "outputs": [
    {
     "data": {
      "text/plain": [
       "(82920, 19423)"
      ]
     },
     "execution_count": 31,
     "metadata": {},
     "output_type": "execute_result"
    }
   ],
   "source": [
    "adata = sc.read_h5ad('/home/zqzhao/workplace/cfDiffusion/dataset/WOT_dataset/WOT_filted_data.h5ad')\n",
    "adata = adata[np.where(np.in1d(adata.obs['period'], ['D0','D0.5','D1','D1.5','D2','D2.5','D3','D4.5','D5','D5.5','D6','D6.5','D7','D7.5','D8']))[0]]\n",
    "adata.var_names_make_unique()\n",
    "sc.pp.normalize_total(adata, target_sum=1e4)\n",
    "sc.pp.log1p(adata)\n",
    "adata = adata[np.where(adata.obs['period'].values.isnull()==0)[0]]#[::5]\n",
    "\n",
    "gene_names = adata.var_names\n",
    "cell_data = adata.X\n",
    "cell_data.shape"
   ]
  },
  {
   "cell_type": "code",
   "execution_count": 34,
   "metadata": {},
   "outputs": [
    {
     "name": "stdout",
     "output_type": "stream",
     "text": [
      "(84000, 128)\n"
     ]
    },
    {
     "name": "stderr",
     "output_type": "stream",
     "text": [
      "/home/zqzhao/software/anaconda3/envs/pytorch1.10/lib/python3.8/site-packages/anndata/_core/anndata.py:453: PendingDeprecationWarning: The dtype argument will be deprecated in anndata 0.10.0\n",
      "  warnings.warn(\n"
     ]
    },
    {
     "name": "stdout",
     "output_type": "stream",
     "text": [
      "AUC: 0.5, Accuracy: 0.49602601156069365\n"
     ]
    },
    {
     "name": "stderr",
     "output_type": "stream",
     "text": [
      "/home/zqzhao/software/anaconda3/envs/pytorch1.10/lib/python3.8/site-packages/anndata/_core/anndata.py:453: PendingDeprecationWarning: The dtype argument will be deprecated in anndata 0.10.0\n",
      "  warnings.warn(\n"
     ]
    },
    {
     "name": "stdout",
     "output_type": "stream",
     "text": [
      "AUC: 0.5, Accuracy: 0.5154589371980677\n"
     ]
    },
    {
     "name": "stderr",
     "output_type": "stream",
     "text": [
      "/home/zqzhao/software/anaconda3/envs/pytorch1.10/lib/python3.8/site-packages/anndata/_core/anndata.py:453: PendingDeprecationWarning: The dtype argument will be deprecated in anndata 0.10.0\n",
      "  warnings.warn(\n"
     ]
    },
    {
     "name": "stdout",
     "output_type": "stream",
     "text": [
      "AUC: 0.5, Accuracy: 0.5135869565217391\n"
     ]
    },
    {
     "name": "stderr",
     "output_type": "stream",
     "text": [
      "/home/zqzhao/software/anaconda3/envs/pytorch1.10/lib/python3.8/site-packages/anndata/_core/anndata.py:453: PendingDeprecationWarning: The dtype argument will be deprecated in anndata 0.10.0\n",
      "  warnings.warn(\n"
     ]
    },
    {
     "name": "stdout",
     "output_type": "stream",
     "text": [
      "AUC: 0.5016474464579901, Accuracy: 0.4829642248722317\n"
     ]
    },
    {
     "name": "stderr",
     "output_type": "stream",
     "text": [
      "/home/zqzhao/software/anaconda3/envs/pytorch1.10/lib/python3.8/site-packages/anndata/_core/anndata.py:453: PendingDeprecationWarning: The dtype argument will be deprecated in anndata 0.10.0\n",
      "  warnings.warn(\n"
     ]
    },
    {
     "name": "stdout",
     "output_type": "stream",
     "text": [
      "AUC: 0.5, Accuracy: 0.4973214285714286\n"
     ]
    },
    {
     "name": "stderr",
     "output_type": "stream",
     "text": [
      "/home/zqzhao/software/anaconda3/envs/pytorch1.10/lib/python3.8/site-packages/anndata/_core/anndata.py:453: PendingDeprecationWarning: The dtype argument will be deprecated in anndata 0.10.0\n",
      "  warnings.warn(\n"
     ]
    },
    {
     "name": "stdout",
     "output_type": "stream",
     "text": [
      "AUC: 0.5, Accuracy: 0.4973214285714286\n"
     ]
    },
    {
     "name": "stderr",
     "output_type": "stream",
     "text": [
      "/home/zqzhao/software/anaconda3/envs/pytorch1.10/lib/python3.8/site-packages/anndata/_core/anndata.py:453: PendingDeprecationWarning: The dtype argument will be deprecated in anndata 0.10.0\n",
      "  warnings.warn(\n"
     ]
    },
    {
     "name": "stdout",
     "output_type": "stream",
     "text": [
      "AUC: 0.5, Accuracy: 0.4973214285714286\n"
     ]
    },
    {
     "name": "stderr",
     "output_type": "stream",
     "text": [
      "/home/zqzhao/software/anaconda3/envs/pytorch1.10/lib/python3.8/site-packages/anndata/_core/anndata.py:453: PendingDeprecationWarning: The dtype argument will be deprecated in anndata 0.10.0\n",
      "  warnings.warn(\n"
     ]
    },
    {
     "name": "stdout",
     "output_type": "stream",
     "text": [
      "AUC: 0.5002960331557135, Accuracy: 0.4973214285714286\n"
     ]
    },
    {
     "name": "stderr",
     "output_type": "stream",
     "text": [
      "/home/zqzhao/software/anaconda3/envs/pytorch1.10/lib/python3.8/site-packages/anndata/_core/anndata.py:453: PendingDeprecationWarning: The dtype argument will be deprecated in anndata 0.10.0\n",
      "  warnings.warn(\n"
     ]
    },
    {
     "name": "stdout",
     "output_type": "stream",
     "text": [
      "AUC: 0.5, Accuracy: 0.4973214285714286\n"
     ]
    },
    {
     "name": "stderr",
     "output_type": "stream",
     "text": [
      "/home/zqzhao/software/anaconda3/envs/pytorch1.10/lib/python3.8/site-packages/anndata/_core/anndata.py:453: PendingDeprecationWarning: The dtype argument will be deprecated in anndata 0.10.0\n",
      "  warnings.warn(\n"
     ]
    },
    {
     "name": "stdout",
     "output_type": "stream",
     "text": [
      "AUC: 0.5, Accuracy: 0.4973214285714286\n"
     ]
    },
    {
     "name": "stderr",
     "output_type": "stream",
     "text": [
      "/home/zqzhao/software/anaconda3/envs/pytorch1.10/lib/python3.8/site-packages/anndata/_core/anndata.py:453: PendingDeprecationWarning: The dtype argument will be deprecated in anndata 0.10.0\n",
      "  warnings.warn(\n"
     ]
    },
    {
     "name": "stdout",
     "output_type": "stream",
     "text": [
      "AUC: 0.5840734162226169, Accuracy: 0.4973214285714286\n"
     ]
    },
    {
     "name": "stderr",
     "output_type": "stream",
     "text": [
      "/home/zqzhao/software/anaconda3/envs/pytorch1.10/lib/python3.8/site-packages/anndata/_core/anndata.py:453: PendingDeprecationWarning: The dtype argument will be deprecated in anndata 0.10.0\n",
      "  warnings.warn(\n"
     ]
    },
    {
     "name": "stdout",
     "output_type": "stream",
     "text": [
      "AUC: 0.5, Accuracy: 0.502410283877879\n"
     ]
    },
    {
     "name": "stderr",
     "output_type": "stream",
     "text": [
      "/home/zqzhao/software/anaconda3/envs/pytorch1.10/lib/python3.8/site-packages/anndata/_core/anndata.py:453: PendingDeprecationWarning: The dtype argument will be deprecated in anndata 0.10.0\n",
      "  warnings.warn(\n"
     ]
    },
    {
     "name": "stdout",
     "output_type": "stream",
     "text": [
      "AUC: 0.5, Accuracy: 0.4973214285714286\n"
     ]
    },
    {
     "name": "stderr",
     "output_type": "stream",
     "text": [
      "/home/zqzhao/software/anaconda3/envs/pytorch1.10/lib/python3.8/site-packages/anndata/_core/anndata.py:453: PendingDeprecationWarning: The dtype argument will be deprecated in anndata 0.10.0\n",
      "  warnings.warn(\n"
     ]
    },
    {
     "name": "stdout",
     "output_type": "stream",
     "text": [
      "AUC: 0.5003287310979618, Accuracy: 0.4991768192295028\n"
     ]
    },
    {
     "name": "stderr",
     "output_type": "stream",
     "text": [
      "/home/zqzhao/software/anaconda3/envs/pytorch1.10/lib/python3.8/site-packages/anndata/_core/anndata.py:453: PendingDeprecationWarning: The dtype argument will be deprecated in anndata 0.10.0\n",
      "  warnings.warn(\n"
     ]
    },
    {
     "name": "stdout",
     "output_type": "stream",
     "text": [
      "AUC: 0.5004317789291882, Accuracy: 0.5072340425531915\n",
      "0.49969524695898226\n",
      "[0.49602601156069365, 0.5154589371980677, 0.5135869565217391, 0.4829642248722317, 0.4973214285714286, 0.4973214285714286, 0.4973214285714286, 0.4973214285714286, 0.4973214285714286, 0.4973214285714286, 0.4973214285714286, 0.502410283877879, 0.4973214285714286, 0.4991768192295028, 0.5072340425531915]\n",
      "[0.5, 0.5, 0.5, 0.5016474464579901, 0.5, 0.5, 0.5, 0.5002960331557135, 0.5, 0.5, 0.5840734162226169, 0.5, 0.5, 0.5003287310979618, 0.5004317789291882]\n"
     ]
    },
    {
     "ename": "",
     "evalue": "",
     "output_type": "error",
     "traceback": [
      "\u001b[1;31mThe Kernel crashed while executing code in the the current cell or a previous cell. Please review the code in the cell(s) to identify a possible cause of the failure. Click <a href='https://aka.ms/vscodeJupyterKernelCrash'>here</a> for more info. View Jupyter <a href='command:jupyter.viewOutput'>log</a> for further details."
     ]
    }
   ],
   "source": [
    "cato = ['D0', 'D0.5', 'D1', 'D1.5', 'D2', 'D2.5', 'D3', 'D4.5', 'D5', 'D5.5', 'D6', 'D6.5',\n",
    "        'D7', 'D7.5', 'D8']\n",
    "knn_acc = []\n",
    "knn_auc = []\n",
    "cell_gen = []\n",
    "gen_class = []\n",
    "index2 = list(range(15))\n",
    "length_per_type = 5600\n",
    "\n",
    "for i in range(15):\n",
    "    npyfile=np.load(f'/home/zqzhao/workplace/cfDiffusion/generation/wot/cell{i}_cache5.npy',allow_pickle=True)\n",
    "    cell_gen.append(npyfile[:length_per_type])\n",
    "    # gen_class+=['gen_'+cato[i]]*length_per_type\n",
    "cell_gen = np.concatenate(cell_gen,axis=0)\n",
    "print(cell_gen.shape)\n",
    "\n",
    "autoencoder = load_VAE()\n",
    "cell_gen = autoencoder(torch.tensor(cell_gen).cuda(),return_decoded=True).cpu().detach().numpy()\n",
    "\n",
    "for i in range(15):\n",
    "    cell_diff = cell_gen[i*length_per_type:(i+1)*length_per_type]\n",
    "    ori = ad.AnnData(cell_diff, dtype=np.float32)\n",
    "    ori.var_names = gene_names\n",
    "\n",
    "    length = min(adata[adata.obs['period'] == cato[i]].X.toarray().shape[0],length_per_type)\n",
    "\n",
    "    adata1 = ad.concat((adata[adata.obs['period'] == cato[i]][:length],ori[:length]))\n",
    "    adata1.obs_names = [f\"true_Cell\" for i in range(length)]+[f\"gen_Cell\" for i in range(ori[:length].X.shape[0])]\n",
    "\n",
    "    sc.tl.pca(adata1, svd_solver='arpack')\n",
    "    acc, auc = knn_classify(adata1)\n",
    "    knn_acc.append(acc)\n",
    "    knn_auc.append(auc)\n",
    "print(np.mean(knn_acc))\n",
    "print(knn_acc)\n",
    "print(knn_auc)"
   ]
  }
 ],
 "metadata": {
  "kernelspec": {
   "display_name": "pytorch",
   "language": "python",
   "name": "python3"
  },
  "language_info": {
   "codemirror_mode": {
    "name": "ipython",
    "version": 3
   },
   "file_extension": ".py",
   "mimetype": "text/x-python",
   "name": "python",
   "nbconvert_exporter": "python",
   "pygments_lexer": "ipython3",
   "version": "3.8.17"
  },
  "orig_nbformat": 4,
  "vscode": {
   "interpreter": {
    "hash": "4e7d83ca490bf73dc2547b00b7dbe02b2441b6a62bd03186d7df051bc6fb7973"
   }
  }
 },
 "nbformat": 4,
 "nbformat_minor": 2
}
